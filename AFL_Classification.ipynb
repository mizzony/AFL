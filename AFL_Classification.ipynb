{
  "nbformat": 4,
  "nbformat_minor": 0,
  "metadata": {
    "colab": {
      "provenance": [],
      "authorship_tag": "ABX9TyOWmie3vt0+RTYYlK6cfeVS",
      "include_colab_link": true
    },
    "kernelspec": {
      "name": "python3",
      "display_name": "Python 3"
    },
    "language_info": {
      "name": "python"
    }
  },
  "cells": [
    {
      "cell_type": "markdown",
      "metadata": {
        "id": "view-in-github",
        "colab_type": "text"
      },
      "source": [
        "<a href=\"https://colab.research.google.com/github/mizzony/AFL/blob/main/AFL_Classification.ipynb\" target=\"_parent\"><img src=\"https://colab.research.google.com/assets/colab-badge.svg\" alt=\"Open In Colab\"/></a>"
      ]
    },
    {
      "cell_type": "code",
      "source": [
        "import pandas as pd\n",
        "import xgboost as xgb\n",
        "from sklearn.model_selection import train_test_split\n",
        "from sklearn.metrics import accuracy_score, confusion_matrix, classification_report\n",
        "\n",
        "# Load the cleaned dataset\n",
        "data = pd.read_csv('https://raw.githubusercontent.com/mizzony/AFL/refs/heads/main/afl_data.csv')\n",
        "# Print the first few rows to verify the change\n",
        "data.head()\n",
        "\n",
        "#Explore the dataset\n",
        "data.describe()\n",
        "data.info()\n"
      ],
      "metadata": {
        "colab": {
          "base_uri": "https://localhost:8080/"
        },
        "id": "Z-uRrb2jDBuG",
        "outputId": "a50bdba5-39e6-4a71-80e6-de7112473cac"
      },
      "execution_count": 23,
      "outputs": [
        {
          "output_type": "stream",
          "name": "stdout",
          "text": [
            "<class 'pandas.core.frame.DataFrame'>\n",
            "RangeIndex: 2447 entries, 0 to 2446\n",
            "Data columns (total 23 columns):\n",
            " #   Column            Non-Null Count  Dtype  \n",
            "---  ------            --------------  -----  \n",
            " 0   GameId            2447 non-null   object \n",
            " 1   Year              2447 non-null   int64  \n",
            " 2   Round             2447 non-null   object \n",
            " 3   Date              2447 non-null   object \n",
            " 4   MaxTemp           2440 non-null   float64\n",
            " 5   MinTemp           2440 non-null   float64\n",
            " 6   Rainfall          2425 non-null   float64\n",
            " 7   Venue             2447 non-null   object \n",
            " 8   StartTime         2447 non-null   object \n",
            " 9   Attendance        2447 non-null   object \n",
            " 10  HomeTeam          2447 non-null   object \n",
            " 11  HomeTeamScoreQT   2447 non-null   float64\n",
            " 12  HomeTeamScoreHT   2447 non-null   float64\n",
            " 13  HomeTeamScore3QT  2447 non-null   float64\n",
            " 14  HomeTeamScoreFT   2447 non-null   float64\n",
            " 15  HomeTeamScore     2447 non-null   int64  \n",
            " 16  AwayTeam          2447 non-null   object \n",
            " 17  AwayTeamScoreQT   2447 non-null   float64\n",
            " 18  AwayTeamScoreHT   2447 non-null   float64\n",
            " 19  AwayTeamScore3QT  2447 non-null   float64\n",
            " 20  AwayTeamScoreFT   2447 non-null   float64\n",
            " 21  AwayTeamScore     2447 non-null   int64  \n",
            " 22  Win               2447 non-null   int64  \n",
            "dtypes: float64(11), int64(4), object(8)\n",
            "memory usage: 439.8+ KB\n"
          ]
        }
      ]
    },
    {
      "cell_type": "code",
      "source": [
        "\n",
        "# Features and target\n",
        "X = data.drop(columns=['Win'])  # Features\n",
        "y = data['Win']  # Target (0 or 1)\n",
        "\n",
        "# Convert 'object' type columns to categorical\n",
        "# Select object columns\n",
        "object_cols = X.select_dtypes(include=['object']).columns\n",
        "\n",
        "# Convert to categorical\n",
        "for col in object_cols:\n",
        "    X[col] = X[col].astype('category')\n",
        "\n",
        "# Split the dataset into training and testing sets\n",
        "X_train, X_test, y_train, y_test = train_test_split(X, y, test_size=0.2, random_state=42)\n",
        "\n",
        "# Convert data to DMatrix format for XGBoost\n",
        "# Set enable_categorical=True to handle categorical features\n",
        "dtrain = xgb.DMatrix(X_train, label=y_train, enable_categorical=True)\n",
        "dtest = xgb.DMatrix(X_test, label=y_test, enable_categorical=True)\n",
        "\n",
        "# Set up XGBoost parameters\n",
        "params = {\n",
        "    'objective': 'binary:logistic',\n",
        "    'eval_metric': 'logloss',\n",
        "    'max_depth': 4,\n",
        "    'eta': 0.1,\n",
        "    'seed': 42\n",
        "}\n",
        "\n",
        "# Train the XGBoost model\n",
        "bst = xgb.train(params, dtrain, num_boost_round=100)\n",
        "\n",
        "# Predict on the test set\n",
        "y_pred_probs = bst.predict(dtest)\n",
        "y_pred = [1 if prob > 0.5 else 0 for prob in y_pred_probs]"
      ],
      "metadata": {
        "id": "IhDgUGJcBI5U"
      },
      "execution_count": 24,
      "outputs": []
    },
    {
      "cell_type": "code",
      "source": [
        "\n",
        "\n",
        "# Create a new dataset with predictions and 'Win' column\n",
        "# Reset index of X_test and y_test to ensure alignment with y_pred\n",
        "X_test = X_test.reset_index(drop=True)\n",
        "y_test = y_test.reset_index(drop=True)\n",
        "\n",
        "# Create a copy of the test set and add predictions and the original 'Win' column\n",
        "afl_data2 = X_test.copy()\n",
        "afl_data2['Win'] = y_test\n",
        "afl_data2['Predicted_Win'] = y_pred\n",
        "\n",
        "# Print the new dataset with original and predicted values\n",
        "print(afl_data2.head())\n",
        "\n",
        "# Export the new dataset to a CSV file\n",
        "afl_data2.to_csv('afl_data_with_predictions.csv', index=False)\n",
        "\n"
      ],
      "metadata": {
        "colab": {
          "base_uri": "https://localhost:8080/"
        },
        "id": "0QS9XHp4CDEO",
        "outputId": "5e8304ce-b142-4f03-ecb6-5676316ab407"
      },
      "execution_count": 25,
      "outputs": [
        {
          "output_type": "stream",
          "name": "stdout",
          "text": [
            "      GameId  Year Round        Date  MaxTemp  MinTemp  Rainfall  \\\n",
            "0   2022EF01  2022    EF  2022-09-01     22.8     13.3       0.0   \n",
            "1  2017R2306  2017   R23  2017-08-26     14.3      4.1       0.0   \n",
            "2  2017R1509  2017   R15  2017-07-02     14.6      6.0      21.8   \n",
            "3  2021R1706  2021   R17  2021-07-11     10.4     -1.0       0.2   \n",
            "4  2016R0608  2016    R6  2016-05-01     16.8     14.0       9.8   \n",
            "\n",
            "            Venue StartTime Attendance  ... HomeTeamScoreFT  HomeTeamScore  \\\n",
            "0           Gabba   7:20 PM     35,013  ...           16.10            106   \n",
            "1   Adelaide Oval   7:10 PM     34,288  ...           20.15            135   \n",
            "2         Subiaco   2:40 PM     30,541  ...           12.80             80   \n",
            "3  Eureka Stadium  12:40 PM      2,952  ...            9.10             64   \n",
            "4          M.C.G.   3:20 PM     43,827  ...           10.12             72   \n",
            "\n",
            "     AwayTeam  AwayTeamScoreQT  AwayTeamScoreHT  AwayTeamScore3QT  \\\n",
            "0    Richmond              4.3              9.5             14.60   \n",
            "1  Gold Coast              2.1              2.1              2.10   \n",
            "2    St Kilda              1.5              6.8              8.14   \n",
            "3  Gold Coast              1.1              5.3              7.30   \n",
            "4    Essendon              1.1              1.4              4.80   \n",
            "\n",
            "  AwayTeamScoreFT  AwayTeamScore  Win  Predicted_Win  \n",
            "0           16.80            104    1              0  \n",
            "1            3.20             20    1              1  \n",
            "2           12.17             89    0              0  \n",
            "3           10.50             65    0              0  \n",
            "4            8.90             57    1              1  \n",
            "\n",
            "[5 rows x 24 columns]\n"
          ]
        }
      ]
    },
    {
      "cell_type": "code",
      "source": [
        "# Evaluate the model\n",
        "accuracy = accuracy_score(y_test, y_pred)\n",
        "conf_matrix = confusion_matrix(y_test, y_pred)\n",
        "report = classification_report(y_test, y_pred)\n",
        "\n",
        "print(f'Accuracy: {accuracy:.2f}')\n",
        "print('Confusion Matrix:')\n",
        "print(conf_matrix)\n",
        "print('Classification Report:')\n",
        "print(report)"
      ],
      "metadata": {
        "colab": {
          "base_uri": "https://localhost:8080/"
        },
        "id": "sHQmM7vgDYJn",
        "outputId": "c687e508-9c75-4948-cef2-78063ecc5dd2"
      },
      "execution_count": 26,
      "outputs": [
        {
          "output_type": "stream",
          "name": "stdout",
          "text": [
            "Accuracy: 0.98\n",
            "Confusion Matrix:\n",
            "[[213   6]\n",
            " [  2 269]]\n",
            "Classification Report:\n",
            "              precision    recall  f1-score   support\n",
            "\n",
            "           0       0.99      0.97      0.98       219\n",
            "           1       0.98      0.99      0.99       271\n",
            "\n",
            "    accuracy                           0.98       490\n",
            "   macro avg       0.98      0.98      0.98       490\n",
            "weighted avg       0.98      0.98      0.98       490\n",
            "\n"
          ]
        }
      ]
    }
  ]
}